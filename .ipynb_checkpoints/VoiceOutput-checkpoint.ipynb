{
 "cells": [
  {
   "cell_type": "code",
   "execution_count": null,
   "id": "878e8757",
   "metadata": {},
   "outputs": [],
   "source": [
    "pip install pyttsx3"
   ]
  },
  {
   "cell_type": "code",
   "execution_count": null,
   "id": "a4738bff",
   "metadata": {},
   "outputs": [],
   "source": [
    "import pyttsx3\n",
    "\n",
    "# Initialize the engine\n",
    "engine = pyttsx3.init()"
   ]
  },
  {
   "cell_type": "code",
   "execution_count": null,
   "id": "ff9ac270",
   "metadata": {},
   "outputs": [],
   "source": [
    "# Get the predicted string\n",
    "predicted_string = \"The bus has been detected.\"\n",
    "\n",
    "# Convert the predicted string to speech\n",
    "engine.say(predicted_string)\n",
    "\n",
    "# Play the speech\n",
    "engine.runAndWait()"
   ]
  },
  {
   "cell_type": "code",
   "execution_count": null,
   "id": "e7897cef",
   "metadata": {},
   "outputs": [],
   "source": [
    "# Set the speech rate\n",
    "engine.setProperty('rate', 150)\n",
    "\n",
    "# Set the volume (from 0 to 1)\n",
    "engine.setProperty('volume', 0.8)"
   ]
  },
  {
   "cell_type": "code",
   "execution_count": null,
   "id": "1e249bbe",
   "metadata": {},
   "outputs": [],
   "source": []
  }
 ],
 "metadata": {
  "kernelspec": {
   "display_name": "Python 3 (ipykernel)",
   "language": "python",
   "name": "python3"
  },
  "language_info": {
   "codemirror_mode": {
    "name": "ipython",
    "version": 3
   },
   "file_extension": ".py",
   "mimetype": "text/x-python",
   "name": "python",
   "nbconvert_exporter": "python",
   "pygments_lexer": "ipython3",
   "version": "3.9.6"
  }
 },
 "nbformat": 4,
 "nbformat_minor": 5
}
