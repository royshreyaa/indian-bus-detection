{
 "cells": [
  {
   "cell_type": "code",
   "execution_count": 1,
   "id": "83b946a0",
   "metadata": {},
   "outputs": [],
   "source": [
    "#pip install pyttsx3"
   ]
  },
  {
   "cell_type": "code",
   "execution_count": 2,
   "id": "c0178948",
   "metadata": {},
   "outputs": [],
   "source": [
    "import pyttsx3\n",
    "\n",
    "# Initialize the engine\n",
    "engine = pyttsx3.init()"
   ]
  },
  {
   "cell_type": "code",
   "execution_count": 3,
   "id": "e82bf0d7",
   "metadata": {},
   "outputs": [],
   "source": [
    "# Set the speech rate\n",
    "engine.setProperty('rate', 150)\n",
    "\n",
    "# Set the volume (from 0 to 1)\n",
    "engine.setProperty('volume', 0.8)"
   ]
  },
  {
   "cell_type": "code",
   "execution_count": 11,
   "id": "0ce267fd",
   "metadata": {},
   "outputs": [],
   "source": [
    "# Get the predicted string\n",
    "predicted_string = \"The bus has been detected.\"\n",
    "\n",
    "# Convert the predicted string t1o speech\n",
    "engine.say(predicted_string)\n",
    "\n",
    "# Play the speech\n",
    "engine.runAndWait()"
   ]
  }
 ],
 "metadata": {
  "kernelspec": {
   "display_name": "Python 3 (ipykernel)",
   "language": "python",
   "name": "python3"
  },
  "language_info": {
   "codemirror_mode": {
    "name": "ipython",
    "version": 3
   },
   "file_extension": ".py",
   "mimetype": "text/x-python",
   "name": "python",
   "nbconvert_exporter": "python",
   "pygments_lexer": "ipython3",
   "version": "3.9.6"
  }
 },
 "nbformat": 4,
 "nbformat_minor": 5
}
