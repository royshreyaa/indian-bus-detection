{
 "cells": [
  {
   "cell_type": "markdown",
   "id": "2f689a5d",
   "metadata": {},
   "source": [
    "### Seats"
   ]
  },
  {
   "cell_type": "code",
   "execution_count": 22,
   "id": "080b4243",
   "metadata": {},
   "outputs": [
    {
     "name": "stdout",
     "output_type": "stream",
     "text": [
      "Number of empty seats:  15\n"
     ]
    }
   ],
   "source": [
    "import cv2\n",
    "\n",
    "# Initialize face cascade classifier\n",
    "face_cascade = cv2.CascadeClassifier('Haarcascade\\haarcascade_frontalface_default.xml')\n",
    "\n",
    "# Read image\n",
    "img = cv2.imread('Seat.jpg')\n",
    "\n",
    "# Convert image to grayscale\n",
    "gray = cv2.cvtColor(img, cv2.COLOR_BGR2GRAY)\n",
    "\n",
    "# Detect faces in the image using the face cascade classifier\n",
    "faces = face_cascade.detectMultiScale(gray, scaleFactor=1.1, minNeighbors=1)\n",
    "count=0\n",
    "# Draw rectangles around the detected faces\n",
    "for (x, y, w, h) in faces:\n",
    "    cv2.rectangle(img, (x, y), (x+w, y+h), (0, 255, 0), 2)\n",
    "    count=count+1\n",
    "# Display the output image\n",
    "print(\"Number of empty seats: \" , 20 - count)\n",
    "cv2.imshow('image', img)\n",
    "cv2.waitKey(0)\n",
    "cv2.destroyAllWindows()"
   ]
  },
  {
   "cell_type": "markdown",
   "id": "a342c740",
   "metadata": {},
   "source": [
    "### Extra Codes"
   ]
  },
  {
   "cell_type": "code",
   "execution_count": 5,
   "id": "02eb9c40",
   "metadata": {},
   "outputs": [
    {
     "ename": "error",
     "evalue": "OpenCV(4.7.0) D:\\a\\opencv-python\\opencv-python\\opencv\\modules\\objdetect\\src\\cascadedetect.cpp:1689: error: (-215:Assertion failed) !empty() in function 'cv::CascadeClassifier::detectMultiScale'\n",
     "output_type": "error",
     "traceback": [
      "\u001b[1;31m---------------------------------------------------------------------------\u001b[0m",
      "\u001b[1;31merror\u001b[0m                                     Traceback (most recent call last)",
      "Input \u001b[1;32mIn [5]\u001b[0m, in \u001b[0;36m<cell line: 14>\u001b[1;34m()\u001b[0m\n\u001b[0;32m     11\u001b[0m gray \u001b[38;5;241m=\u001b[39m cv2\u001b[38;5;241m.\u001b[39mcvtColor(img, cv2\u001b[38;5;241m.\u001b[39mCOLOR_BGR2GRAY)\n\u001b[0;32m     13\u001b[0m \u001b[38;5;66;03m# Detect the seats in the image\u001b[39;00m\n\u001b[1;32m---> 14\u001b[0m seats \u001b[38;5;241m=\u001b[39m \u001b[43mseat_cascade\u001b[49m\u001b[38;5;241;43m.\u001b[39;49m\u001b[43mdetectMultiScale\u001b[49m\u001b[43m(\u001b[49m\u001b[43mgray\u001b[49m\u001b[43m,\u001b[49m\u001b[43m \u001b[49m\u001b[38;5;241;43m1\u001b[39;49m\u001b[43m,\u001b[49m\u001b[43m \u001b[49m\u001b[38;5;241;43m5\u001b[39;49m\u001b[43m)\u001b[49m\n\u001b[0;32m     16\u001b[0m \u001b[38;5;66;03m# Loop over each seat and classify as empty or occupied\u001b[39;00m\n\u001b[0;32m     17\u001b[0m \u001b[38;5;28;01mfor\u001b[39;00m (x,y,w,h) \u001b[38;5;129;01min\u001b[39;00m seats:\n",
      "\u001b[1;31merror\u001b[0m: OpenCV(4.7.0) D:\\a\\opencv-python\\opencv-python\\opencv\\modules\\objdetect\\src\\cascadedetect.cpp:1689: error: (-215:Assertion failed) !empty() in function 'cv::CascadeClassifier::detectMultiScale'\n"
     ]
    }
   ],
   "source": [
    "import cv2\n",
    "import numpy as np\n",
    "\n",
    "# Load the cascade for detecting the seats\n",
    "seat_cascade = cv2.CascadeClassifier('seat_cascade.xml')\n",
    "\n",
    "# Load the image of the bus seats\n",
    "img = cv2.imread('C:/Users/91932/Documents/CV CP/Dataset/Original/InsideBus/resized_53.jpg')\n",
    "\n",
    "# Convert the image to grayscale\n",
    "gray = cv2.cvtColor(img, cv2.COLOR_BGR2GRAY)\n",
    "\n",
    "# Detect the seats in the image\n",
    "seats = seat_cascade.detectMultiScale(gray, 1, 5)\n",
    "\n",
    "# Loop over each seat and classify as empty or occupied\n",
    "for (x,y,w,h) in seats:\n",
    "    seat = img[y:y+h, x:x+w]\n",
    "    # Perform seat classification here using machine learning or image segmentation\n",
    "    # If the seat is empty, draw a green rectangle around it, otherwise draw a red rectangle\n",
    "    if empty_seat:\n",
    "        cv2.rectangle(img, (x,y), (x+w,y+h), (0,255,0), 2)\n",
    "    else:\n",
    "        cv2.rectangle(img, (x,y), (x+w,y+h), (0,0,255), 2)\n",
    "\n",
    "# Display the output image with the empty and occupied seats highlighted\n",
    "cv2.imshow('Bus Seats', img)\n",
    "cv2.waitKey(0)\n",
    "cv2.destroyAllWindows()\n"
   ]
  },
  {
   "cell_type": "code",
   "execution_count": null,
   "id": "7cd4afd4",
   "metadata": {},
   "outputs": [],
   "source": []
  },
  {
   "cell_type": "code",
   "execution_count": null,
   "id": "55c86923",
   "metadata": {},
   "outputs": [],
   "source": []
  },
  {
   "cell_type": "code",
   "execution_count": 18,
   "id": "0ddf4449",
   "metadata": {},
   "outputs": [
    {
     "ename": "error",
     "evalue": "OpenCV(4.7.0) D:\\a\\opencv-python\\opencv-python\\opencv\\modules\\objdetect\\src\\cascadedetect.cpp:1689: error: (-215:Assertion failed) !empty() in function 'cv::CascadeClassifier::detectMultiScale'\n",
     "output_type": "error",
     "traceback": [
      "\u001b[1;31m---------------------------------------------------------------------------\u001b[0m",
      "\u001b[1;31merror\u001b[0m                                     Traceback (most recent call last)",
      "Input \u001b[1;32mIn [18]\u001b[0m, in \u001b[0;36m<cell line: 7>\u001b[1;34m()\u001b[0m\n\u001b[0;32m      5\u001b[0m resized \u001b[38;5;241m=\u001b[39m cv2\u001b[38;5;241m.\u001b[39mresize(img,(\u001b[38;5;241m400\u001b[39m,\u001b[38;5;241m200\u001b[39m))\n\u001b[0;32m      6\u001b[0m gray\u001b[38;5;241m=\u001b[39mcv2\u001b[38;5;241m.\u001b[39mcvtColor(resized,cv2\u001b[38;5;241m.\u001b[39mCOLOR_BGR2GRAY)\n\u001b[1;32m----> 7\u001b[0m seats \u001b[38;5;241m=\u001b[39m \u001b[43mseat_cascade\u001b[49m\u001b[38;5;241;43m.\u001b[39;49m\u001b[43mdetectMultiScale\u001b[49m\u001b[43m(\u001b[49m\u001b[43mgray\u001b[49m\u001b[43m,\u001b[49m\u001b[38;5;241;43m6.5\u001b[39;49m\u001b[43m,\u001b[49m\u001b[38;5;241;43m17\u001b[39;49m\u001b[43m)\u001b[49m\u001b[38;5;66;03m#try to tune this 6.5 and 17 parameter to get good result \u001b[39;00m\n\u001b[0;32m      8\u001b[0m \u001b[38;5;66;03m##if not getting good result try to train new cascade.xml file again deleting other file expect p and n in temp folder\u001b[39;00m\n\u001b[0;32m      9\u001b[0m \u001b[38;5;28;01mfor\u001b[39;00m(x,y,w,h) \u001b[38;5;129;01min\u001b[39;00m seats:\n",
      "\u001b[1;31merror\u001b[0m: OpenCV(4.7.0) D:\\a\\opencv-python\\opencv-python\\opencv\\modules\\objdetect\\src\\cascadedetect.cpp:1689: error: (-215:Assertion failed) !empty() in function 'cv::CascadeClassifier::detectMultiScale'\n"
     ]
    }
   ],
   "source": [
    "import cv2\n",
    "seat_cascade=cv2.CascadeClassifier(\"C:\\\\Users\\\\91932\\\\Desktop\\\\temp\\\\classifier\\\\stage.xml\")###path of cascade file\n",
    "## following is an test image u can take any image from the p folder in the temp folder and paste address of it on below line \n",
    "img= cv2.imread(\"C:\\\\Users\\\\91932\\\\Documents\\\\CV CP\\\\Dataset\\\\Original\\\\InsideBus\\\\1.jpg\")###path of image file which we want to detect\n",
    "resized = cv2.resize(img,(400,200))\n",
    "gray=cv2.cvtColor(resized,cv2.COLOR_BGR2GRAY)\n",
    "seats = seat_cascade.detectMultiScale(gray,6.5,17)#try to tune this 6.5 and 17 parameter to get good result \n",
    "##if not getting good result try to train new cascade.xml file again deleting other file expect p and n in temp folder\n",
    "for(x,y,w,h) in seats:\n",
    "    resized=cv2.rectangle(resized,(x,y),(x+w,y+h),(0,255,0),2)\n",
    "cv2.imshow('img',resized)\n",
    "cv2.waitKey(0)\n",
    "cv2.destroyAllWindows()"
   ]
  },
  {
   "cell_type": "code",
   "execution_count": 19,
   "id": "5a47cfed",
   "metadata": {},
   "outputs": [
    {
     "name": "stdout",
     "output_type": "stream",
     "text": [
      "Error loading cascade file!\n"
     ]
    }
   ],
   "source": [
    "seat_cascade = cv2.CascadeClassifier('C:\\\\Users\\\\91932\\\\Desktop\\\\temp\\\\classifier\\\\stage.xml')\n",
    "if seat_cascade.empty():\n",
    "    print(\"Error loading cascade file!\")\n",
    "else:\n",
    "    print(\"Cascade file loaded successfully\")"
   ]
  },
  {
   "cell_type": "code",
   "execution_count": null,
   "id": "34c10343",
   "metadata": {},
   "outputs": [],
   "source": []
  }
 ],
 "metadata": {
  "kernelspec": {
   "display_name": "Python 3 (ipykernel)",
   "language": "python",
   "name": "python3"
  },
  "language_info": {
   "codemirror_mode": {
    "name": "ipython",
    "version": 3
   },
   "file_extension": ".py",
   "mimetype": "text/x-python",
   "name": "python",
   "nbconvert_exporter": "python",
   "pygments_lexer": "ipython3",
   "version": "3.9.6"
  }
 },
 "nbformat": 4,
 "nbformat_minor": 5
}
