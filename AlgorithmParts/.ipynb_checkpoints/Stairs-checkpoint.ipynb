{
 "cells": [
  {
   "cell_type": "markdown",
   "id": "74d5b388",
   "metadata": {},
   "source": [
    "### GrabLine"
   ]
  },
  {
   "cell_type": "code",
   "execution_count": 93,
   "id": "7046bfc6",
   "metadata": {},
   "outputs": [],
   "source": [
    "import numpy  as  np\n",
    "import cv2\n",
    "\n",
    "img  = cv2.imread('C:\\\\Users\\\\91932\\\\Documents\\\\CV CP\\\\Dataset\\\\Original\\\\SideBus\\\\resized_203.jpg')\n",
    "img=cv2.resize(img,(450,450))\n",
    "mask = np.zeros(img.shape[:2],np.uint8)\n",
    " \n",
    "bgdModel =  np.zeros((1,65),np.float64)*255\n",
    "fgdModel =  np.zeros((1,65),np.float64)*255\n",
    " \n",
    "#parameter(img,mask,rect,bgmodel,fgmodel,iter,method) \n",
    "rect =\t(134,150,660,730)\n",
    "cv2.grabCut(img,mask,rect,bgdModel,fgdModel,5,\n",
    "            cv2.GC_INIT_WITH_RECT)\n",
    " \n",
    "mask2  =  np.where((mask==2)|(mask==0),0,1).astype('uint8')\n",
    "img  = img*mask2[:,:,np.newaxis]"
   ]
  },
  {
   "cell_type": "code",
   "execution_count": 94,
   "id": "ecdb8520",
   "metadata": {},
   "outputs": [
    {
     "name": "stdout",
     "output_type": "stream",
     "text": [
      "Total Number of Steps :  1\n"
     ]
    }
   ],
   "source": [
    "# Convert the image to grayscale\n",
    "gray = cv2.cvtColor(img, cv2.COLOR_BGR2GRAY)\n",
    "\n",
    "# Apply edge detection\n",
    "edges = cv2.Canny(gray, 50, 150, apertureSize=3)\n",
    "\n",
    "# Apply Hough transform\n",
    "lines = cv2.HoughLines(edges, 1, np.pi/180, 100)\n",
    "\n",
    "# Filter the lines to keep only horizontal lines\n",
    "horizontal_lines = []\n",
    "for line in lines:\n",
    "    rho, theta = line[0]\n",
    "    if theta == 0:\n",
    "        horizontal_lines.append(line)\n",
    "\n",
    "# Draw the horizontal lines on the original image\n",
    "count = 0\n",
    "for line in horizontal_lines:\n",
    "    rho, theta = line[0]\n",
    "    a = np.cos(theta)\n",
    "    b = np.sin(theta)\n",
    "    x0 = a * rho\n",
    "    y0 = b * rho\n",
    "    x1 = int(x0 + 1000 * (-b))\n",
    "    y1 = int(y0 + 1000 * (a))\n",
    "    x2 = int(x0 - 1000 * (-b))\n",
    "    y2 = int(y0 - 1000 * (a))\n",
    "    cv2.line(img, (x1, y1), (x2, y2), (0, 0, 255), 2)\n",
    "    count+=1\n",
    "\n",
    "# Show the result\n",
    "print('Total Number of Steps : ' , count+1)\n",
    "cv2.imshow('Result', img)\n",
    "cv2.waitKey(0)\n",
    "cv2.destroyAllWindows()"
   ]
  },
  {
   "cell_type": "code",
   "execution_count": null,
   "id": "18eff31d",
   "metadata": {},
   "outputs": [],
   "source": [
    "gray = cv2.cvtColor(img, cv2.COLOR_BGR2GRAY)\n",
    "edges = cv2.Canny(gray,50,150,apertureSize = 3)\n",
    "lines = cv2.HoughLinesP(edges, 1, np.pi/180, 100, minLineLength=150, maxLineGap=10)\n",
    "\n",
    "count=0\n",
    "for line in lines:\n",
    "    x1,y1,x2,y2 = line[0]\n",
    "    cv2.line(img,(x1,y1),(x2,y2),(100,200,125),2)\n",
    "    count+=1\n",
    "print(\"Steps Count : \",count)\n",
    "cv2.imshow('image', img)\n",
    "k = cv2.waitKey(0)\n",
    "cv2.destroyAllWindows()"
   ]
  },
  {
   "cell_type": "code",
   "execution_count": null,
   "id": "c16ad151",
   "metadata": {},
   "outputs": [],
   "source": []
  },
  {
   "cell_type": "markdown",
   "id": "b8fd3e84",
   "metadata": {},
   "source": [
    "### Houghline detection only for horizontal lines"
   ]
  },
  {
   "cell_type": "code",
   "execution_count": 59,
   "id": "0ed5876b",
   "metadata": {},
   "outputs": [
    {
     "name": "stdout",
     "output_type": "stream",
     "text": [
      "Number of stairs: 0\n"
     ]
    }
   ],
   "source": [
    "# Preprocess the image\n",
    "gray = cv2.cvtColor(img, cv2.COLOR_BGR2GRAY)\n",
    "gray = cv2.resize(gray, (0, 0), fx=0.5, fy=0.5)\n",
    "\n",
    "# Apply Canny edge detection\n",
    "edges = cv2.Canny(gray, 50, 150)\n",
    "\n",
    "# Apply Hough line detection\n",
    "lines = cv2.HoughLines(edges, rho=1, theta=np.pi/180, threshold=100)\n",
    "\n",
    "# Filter the detected lines\n",
    "stair_lines = []\n",
    "for line in lines:\n",
    "    rho, theta = line[0]\n",
    "    if abs(theta) > np.pi/6 and abs(theta) < np.pi/3:\n",
    "        stair_lines.append(line)\n",
    "\n",
    "# Merge the lines\n",
    "merged_lines = []\n",
    "for line1 in stair_lines:\n",
    "    rho1, theta1 = line1[0]\n",
    "    for line2 in stair_lines:\n",
    "        rho2, theta2 = line2[0]\n",
    "        if abs(rho1 - rho2) < 20 and abs(theta1 - theta2) < np.pi/180 and line1 != line2:\n",
    "            merged_lines.append((rho1, theta1, rho2, theta2))\n",
    "\n",
    "# Draw the merged lines on the original image\n",
    "for line in merged_lines:\n",
    "    rho1, theta1, rho2, theta2 = line\n",
    "    a1, b1 = np.cos(theta1), np.sin(theta1)\n",
    "    x1, y1 = a1*rho1, b1*rho1\n",
    "    a2, b2 = np.cos(theta2), np.sin(theta2)\n",
    "    x2, y2 = a2*rho2, b2*rho2\n",
    "    cv2.line(img, (int(x1), int(y1)), (int(x2), int(y2)), (0, 0, 255), 2)\n",
    "\n",
    "# Compute the total number of stairs\n",
    "num_stairs = len(merged_lines) // 2\n",
    "\n",
    "# Display the result\n",
    "cv2.imshow('Result', img)\n",
    "cv2.waitKey(0)\n",
    "cv2.destroyAllWindows()\n",
    "\n",
    "# Print the number of stairs\n",
    "print('Number of stairs:', num_stairs)\n"
   ]
  },
  {
   "cell_type": "code",
   "execution_count": null,
   "id": "9e15eaa1",
   "metadata": {},
   "outputs": [],
   "source": []
  }
 ],
 "metadata": {
  "kernelspec": {
   "display_name": "Python 3 (ipykernel)",
   "language": "python",
   "name": "python3"
  },
  "language_info": {
   "codemirror_mode": {
    "name": "ipython",
    "version": 3
   },
   "file_extension": ".py",
   "mimetype": "text/x-python",
   "name": "python",
   "nbconvert_exporter": "python",
   "pygments_lexer": "ipython3",
   "version": "3.9.6"
  }
 },
 "nbformat": 4,
 "nbformat_minor": 5
}
