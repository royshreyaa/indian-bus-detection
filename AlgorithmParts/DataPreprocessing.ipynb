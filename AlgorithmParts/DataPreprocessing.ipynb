{
 "cells": [
  {
   "cell_type": "code",
   "execution_count": 1,
   "id": "50d80090",
   "metadata": {},
   "outputs": [],
   "source": [
    "from tensorflow.keras.preprocessing.image import ImageDataGenerator, load_img, img_to_array\n",
    "from PIL import Image\n",
    "import os"
   ]
  },
  {
   "cell_type": "markdown",
   "id": "977c7923",
   "metadata": {},
   "source": [
    "### Resize"
   ]
  },
  {
   "cell_type": "code",
   "execution_count": 2,
   "id": "7d718c2c",
   "metadata": {},
   "outputs": [],
   "source": [
    "source_folder = \"C:/Dataset/BackBus/\" # replace with the path to the source folder\n",
    "target_folder = \"C:/Dataset/BackBus_Resized_Augmented/\" # replace with the path to the target folder\n",
    "new_size = (500, 500)\n",
    "\n",
    "for filename in os.listdir(source_folder):\n",
    "    if filename.endswith(\".jpg\"):\n",
    "        img_path = os.path.join(source_folder, filename)\n",
    "        img = Image.open(img_path)\n",
    "        img = img.resize(new_size)\n",
    "        target_path = os.path.join(target_folder, filename)\n",
    "        img.save(target_path)"
   ]
  },
  {
   "cell_type": "markdown",
   "id": "ee1a7344",
   "metadata": {},
   "source": [
    "### Augment "
   ]
  },
  {
   "cell_type": "code",
   "execution_count": 2,
   "id": "09684823",
   "metadata": {},
   "outputs": [],
   "source": [
    "# Define the path to the four folders containing the original images\n",
    "folders = ['BackBus_Resized_Augmented']\n",
    "dir_path = 'C:/Dataset'\n",
    "\n",
    "# Define the path to the directory where the augmented images will be saved\n",
    "augmented_dir_path = 'C:/Dataset/BackBus_Resized_Augmented'"
   ]
  },
  {
   "cell_type": "code",
   "execution_count": 3,
   "id": "59bda406",
   "metadata": {},
   "outputs": [],
   "source": [
    "# Define the parameters for the image data generator\n",
    "datagen = ImageDataGenerator(\n",
    "        rotation_range=5, # Randomly rotate the images between 0 and 30 degrees\n",
    "        width_shift_range=0.2, # Randomly shift the width of the images between 0 and 20%\n",
    "        height_shift_range=0.2, # Randomly shift the height of the images between 0 and 20%\n",
    "        horizontal_flip=False, # Randomly flip the images horizontally\n",
    "#         vertical_flip=True, # Randomly flip the images vertically\n",
    "        fill_mode='nearest' # Fill in any empty pixels with the nearest available pixel\n",
    "    )"
   ]
  },
  {
   "cell_type": "code",
   "execution_count": 6,
   "id": "9686830b",
   "metadata": {},
   "outputs": [
    {
     "ename": "PermissionError",
     "evalue": "[Errno 13] Permission denied: 'C:/Dataset\\\\BackBus_Resized_Augmented\\\\BackBus_Resized_Augmented'",
     "output_type": "error",
     "traceback": [
      "\u001b[1;31m---------------------------------------------------------------------------\u001b[0m",
      "\u001b[1;31mPermissionError\u001b[0m                           Traceback (most recent call last)",
      "Cell \u001b[1;32mIn[6], line 18\u001b[0m\n\u001b[0;32m     15\u001b[0m img_path \u001b[38;5;241m=\u001b[39m os\u001b[38;5;241m.\u001b[39mpath\u001b[38;5;241m.\u001b[39mjoin(folder_path, img_file)\n\u001b[0;32m     17\u001b[0m \u001b[38;5;66;03m# Load the image using PIL\u001b[39;00m\n\u001b[1;32m---> 18\u001b[0m img \u001b[38;5;241m=\u001b[39m \u001b[43mload_img\u001b[49m\u001b[43m(\u001b[49m\u001b[43mimg_path\u001b[49m\u001b[43m)\u001b[49m\n\u001b[0;32m     20\u001b[0m \u001b[38;5;66;03m# Convert the PIL image to a numpy array\u001b[39;00m\n\u001b[0;32m     21\u001b[0m x \u001b[38;5;241m=\u001b[39m img_to_array(img)\n",
      "File \u001b[1;32m~\\AppData\\Local\\Programs\\Python\\Python39\\lib\\site-packages\\keras\\utils\\image_utils.py:422\u001b[0m, in \u001b[0;36mload_img\u001b[1;34m(path, grayscale, color_mode, target_size, interpolation, keep_aspect_ratio)\u001b[0m\n\u001b[0;32m    420\u001b[0m     \u001b[38;5;28;01mif\u001b[39;00m \u001b[38;5;28misinstance\u001b[39m(path, pathlib\u001b[38;5;241m.\u001b[39mPath):\n\u001b[0;32m    421\u001b[0m         path \u001b[38;5;241m=\u001b[39m \u001b[38;5;28mstr\u001b[39m(path\u001b[38;5;241m.\u001b[39mresolve())\n\u001b[1;32m--> 422\u001b[0m     \u001b[38;5;28;01mwith\u001b[39;00m \u001b[38;5;28;43mopen\u001b[39;49m\u001b[43m(\u001b[49m\u001b[43mpath\u001b[49m\u001b[43m,\u001b[49m\u001b[43m \u001b[49m\u001b[38;5;124;43m\"\u001b[39;49m\u001b[38;5;124;43mrb\u001b[39;49m\u001b[38;5;124;43m\"\u001b[39;49m\u001b[43m)\u001b[49m \u001b[38;5;28;01mas\u001b[39;00m f:\n\u001b[0;32m    423\u001b[0m         img \u001b[38;5;241m=\u001b[39m pil_image\u001b[38;5;241m.\u001b[39mopen(io\u001b[38;5;241m.\u001b[39mBytesIO(f\u001b[38;5;241m.\u001b[39mread()))\n\u001b[0;32m    424\u001b[0m \u001b[38;5;28;01melse\u001b[39;00m:\n",
      "\u001b[1;31mPermissionError\u001b[0m: [Errno 13] Permission denied: 'C:/Dataset\\\\BackBus_Resized_Augmented\\\\BackBus_Resized_Augmented'"
     ]
    }
   ],
   "source": [
    "# Loop over each folder containing the original images\n",
    "for folder in folders:\n",
    "    # Define the path to the current folder\n",
    "    folder_path = os.path.join(dir_path, folder)\n",
    "    \n",
    "    # Define the path to the directory where the augmented images for this folder will be saved\n",
    "    augmented_folder_path = os.path.join(augmented_dir_path, folder)\n",
    "    \n",
    "    # Create the directory for the augmented images if it doesn't already exist\n",
    "    os.makedirs(augmented_folder_path, exist_ok=True)\n",
    "    \n",
    "    # Loop over each image in the current folder\n",
    "    for i, img_file in enumerate(os.listdir(folder_path)):\n",
    "        # Define the path to the current image\n",
    "        img_path = os.path.join(folder_path, img_file)\n",
    "        \n",
    "        # Load the image using PIL\n",
    "        img = load_img(img_path)\n",
    "        \n",
    "        # Convert the PIL image to a numpy array\n",
    "        x = img_to_array(img)\n",
    "        \n",
    "        # Add a batch dimension to the array\n",
    "        x = x.reshape((1,) + x.shape)\n",
    "        \n",
    "        # Generate 2 augmented images from the original image\n",
    "        for batch in datagen.flow(x, batch_size=1, save_to_dir=augmented_folder_path, save_prefix='aug', save_format='jpg'):\n",
    "            i += 1\n",
    "            \n",
    "            # Stop generating images after we've created 2 augmented images\n",
    "            if i >= 50:\n",
    "                break"
   ]
  }
 ],
 "metadata": {
  "kernelspec": {
   "display_name": "Python 3 (ipykernel)",
   "language": "python",
   "name": "python3"
  },
  "language_info": {
   "codemirror_mode": {
    "name": "ipython",
    "version": 3
   },
   "file_extension": ".py",
   "mimetype": "text/x-python",
   "name": "python",
   "nbconvert_exporter": "python",
   "pygments_lexer": "ipython3",
   "version": "3.9.6"
  }
 },
 "nbformat": 4,
 "nbformat_minor": 5
}
